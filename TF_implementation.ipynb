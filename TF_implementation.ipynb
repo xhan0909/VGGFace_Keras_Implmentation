{
 "cells": [
  {
   "cell_type": "code",
   "execution_count": 1,
   "metadata": {},
   "outputs": [],
   "source": [
    "# https://datascience.stackexchange.com/questions/33364/why-model-fit-generator-in-keras-is-taking-so-much-time-even-before-picking-the\n",
    "import tensorflow as tf\n",
    "config = tf.ConfigProto()\n",
    "config.gpu_options.allow_growth = True\n",
    "session = tf.Session(config=config)"
   ]
  },
  {
   "cell_type": "code",
   "execution_count": 2,
   "metadata": {
    "ExecuteTime": {
     "end_time": "2019-06-30T08:33:51.207955Z",
     "start_time": "2019-06-30T08:33:51.205221Z"
    }
   },
   "outputs": [],
   "source": [
    "from pathlib import Path\n",
    "from glob import glob\n",
    "import numpy as np\n",
    "import pandas as pd"
   ]
  },
  {
   "cell_type": "code",
   "execution_count": 3,
   "metadata": {
    "ExecuteTime": {
     "end_time": "2019-06-30T08:32:54.401511Z",
     "start_time": "2019-06-30T08:32:54.099995Z"
    }
   },
   "outputs": [],
   "source": [
    "import torch\n",
    "import torch.nn as nn\n",
    "from functools import reduce\n",
    "from torch.autograd import Variable"
   ]
  },
  {
   "cell_type": "code",
   "execution_count": 4,
   "metadata": {
    "ExecuteTime": {
     "end_time": "2019-06-30T08:32:57.046625Z",
     "start_time": "2019-06-30T08:32:54.828136Z"
    }
   },
   "outputs": [],
   "source": [
    "from skimage.io import imread\n",
    "from skimage.transform import resize\n",
    "import tensorflow.keras as keras\n",
    "from tensorflow.keras.layers import (Conv2D, MaxPooling2D, Dense, ReLU, Dropout, \n",
    "                                     Flatten, GlobalAveragePooling2D)\n",
    "from tensorflow.python.keras.utils.data_utils import Sequence\n",
    "from tensorflow.keras.preprocessing.image import ImageDataGenerator\n",
    "from tensorflow.keras.optimizers import SGD"
   ]
  },
  {
   "cell_type": "code",
   "execution_count": 5,
   "metadata": {
    "ExecuteTime": {
     "end_time": "2019-06-30T08:32:57.583631Z",
     "start_time": "2019-06-30T08:32:57.581355Z"
    }
   },
   "outputs": [],
   "source": [
    "import warnings\n",
    "\n",
    "warnings.filterwarnings(\"ignore\")"
   ]
  },
  {
   "cell_type": "markdown",
   "metadata": {},
   "source": [
    "# PyTorch to Keras"
   ]
  },
  {
   "cell_type": "markdown",
   "metadata": {},
   "source": [
    "The original model (including pre-trained weights) was in Torch7/Caffe. I choose to first convert the Torch7 model to PyTorch since there's currently no API to convert from Torch to TensorFlow directly."
   ]
  },
  {
   "cell_type": "markdown",
   "metadata": {},
   "source": [
    "## Build model in PyTorch and load pre-trained weights"
   ]
  },
  {
   "cell_type": "markdown",
   "metadata": {},
   "source": [
    "This part is the output of the [`convert_torch_to_pytorch`](https://github.com/clcarwin/convert_torch_to_pytorch) API."
   ]
  },
  {
   "cell_type": "code",
   "execution_count": null,
   "metadata": {
    "ExecuteTime": {
     "end_time": "2019-06-29T00:10:58.835521Z",
     "start_time": "2019-06-29T00:10:58.828361Z"
    },
    "deletable": false,
    "editable": false,
    "run_control": {
     "frozen": true
    }
   },
   "outputs": [],
   "source": [
    "class LambdaBase(nn.Sequential):\n",
    "    def __init__(self, fn, *args):\n",
    "        super(LambdaBase, self).__init__(*args)\n",
    "        self.lambda_func = fn\n",
    "\n",
    "    def forward_prepare(self, input):\n",
    "        output = []\n",
    "        for module in self._modules.values():\n",
    "            output.append(module(input))\n",
    "        return output if output else input\n",
    "\n",
    "class Lambda(LambdaBase):\n",
    "    def forward(self, input):\n",
    "        return self.lambda_func(self.forward_prepare(input))\n",
    "\n",
    "class LambdaMap(LambdaBase):\n",
    "    def forward(self, input):\n",
    "        return list(map(self.lambda_func,self.forward_prepare(input)))\n",
    "\n",
    "class LambdaReduce(LambdaBase):\n",
    "    def forward(self, input):\n",
    "        return reduce(self.lambda_func,self.forward_prepare(input))"
   ]
  },
  {
   "cell_type": "markdown",
   "metadata": {},
   "source": [
    "In the model architecture, I have to change all the `ceil_mode=True` in MaxPool2d layers to `ceil_mode=False` because the `pytorch2keras` API (onnx) doesn't support this option."
   ]
  },
  {
   "cell_type": "code",
   "execution_count": null,
   "metadata": {
    "ExecuteTime": {
     "end_time": "2019-06-29T00:21:29.288973Z",
     "start_time": "2019-06-29T00:21:28.345015Z"
    },
    "deletable": false,
    "editable": false,
    "run_control": {
     "frozen": true
    }
   },
   "outputs": [],
   "source": [
    "pytorch_model = nn.Sequential( # Sequential,\n",
    "    nn.Conv2d(3, 64, (3, 3),(1, 1),(1, 1)),\n",
    "    nn.ReLU(),\n",
    "    nn.Conv2d(64,64,(3, 3),(1, 1),(1, 1)),\n",
    "    nn.ReLU(),\n",
    "    nn.MaxPool2d((2, 2),(2, 2),(0, 0),ceil_mode=False),\n",
    "\n",
    "    nn.Conv2d(64,128,(3, 3),(1, 1),(1, 1)),\n",
    "    nn.ReLU(),\n",
    "    nn.Conv2d(128,128,(3, 3),(1, 1),(1, 1)),\n",
    "    nn.ReLU(),\n",
    "    nn.MaxPool2d((2, 2),(2, 2),(0, 0),ceil_mode=False),\n",
    "\n",
    "    nn.Conv2d(128,256,(3, 3),(1, 1),(1, 1)),\n",
    "    nn.ReLU(),\n",
    "    nn.Conv2d(256,256,(3, 3),(1, 1),(1, 1)),\n",
    "    nn.ReLU(),\n",
    "    nn.Conv2d(256,256,(3, 3),(1, 1),(1, 1)),\n",
    "    nn.ReLU(),\n",
    "    nn.MaxPool2d((2, 2),(2, 2),(0, 0),ceil_mode=False),\n",
    "\n",
    "    nn.Conv2d(256,512,(3, 3),(1, 1),(1, 1)),\n",
    "    nn.ReLU(),\n",
    "    nn.Conv2d(512,512,(3, 3),(1, 1),(1, 1)),\n",
    "    nn.ReLU(),\n",
    "    nn.Conv2d(512,512,(3, 3),(1, 1),(1, 1)),\n",
    "    nn.ReLU(),\n",
    "    nn.MaxPool2d((2, 2),(2, 2),(0, 0),ceil_mode=False),\n",
    "\n",
    "    nn.Conv2d(512,512,(3, 3),(1, 1),(1, 1)),\n",
    "    nn.ReLU(),\n",
    "    nn.Conv2d(512,512,(3, 3),(1, 1),(1, 1)),\n",
    "    nn.ReLU(),\n",
    "    nn.Conv2d(512,512,(3, 3),(1, 1),(1, 1)),\n",
    "    nn.ReLU(),\n",
    "    nn.MaxPool2d((2, 2),(2, 2),(0, 0),ceil_mode=False),\n",
    "\n",
    "    Lambda(lambda x: x.view(x.size(0), -1)), # View,\n",
    "    nn.Sequential(Lambda(lambda x: x.view(1,-1) if 1==len(x.size()) else x ),nn.Linear(25088,4096)), # Linear,\n",
    "    nn.ReLU(),\n",
    "    nn.Dropout(0.5),\n",
    "    nn.Sequential(Lambda(lambda x: x.view(1,-1) if 1==len(x.size()) else x ),nn.Linear(4096,4096)), # Linear,\n",
    "    nn.ReLU(),\n",
    "    nn.Dropout(0.5),\n",
    "    nn.Sequential(Lambda(lambda x: x.view(1,-1) if 1==len(x.size()) else x ),nn.Linear(4096,2622)), # Linear,\n",
    "    nn.Softmax()\n",
    ")"
   ]
  },
  {
   "cell_type": "code",
   "execution_count": null,
   "metadata": {
    "ExecuteTime": {
     "end_time": "2019-06-29T00:21:31.238050Z",
     "start_time": "2019-06-29T00:21:30.593509Z"
    },
    "deletable": false,
    "editable": false,
    "run_control": {
     "frozen": true
    }
   },
   "outputs": [],
   "source": [
    "pytorch_model.load_state_dict(torch.load('./pytorch_ver/VGG_FACE.pth'))"
   ]
  },
  {
   "cell_type": "code",
   "execution_count": null,
   "metadata": {
    "ExecuteTime": {
     "end_time": "2019-06-29T00:21:40.515229Z",
     "start_time": "2019-06-29T00:21:40.511575Z"
    },
    "deletable": false,
    "editable": false,
    "run_control": {
     "frozen": true
    }
   },
   "outputs": [],
   "source": [
    "# first remove Dropout and Softmax layers because onnx does not support these two layers yet\n",
    "pytorch_model = nn.Sequential(pytorch_model[:34], pytorch_model[35:37], pytorch_model[38])"
   ]
  },
  {
   "cell_type": "code",
   "execution_count": null,
   "metadata": {
    "ExecuteTime": {
     "end_time": "2019-06-29T00:21:42.538059Z",
     "start_time": "2019-06-29T00:21:42.148180Z"
    },
    "deletable": false,
    "editable": false,
    "run_control": {
     "frozen": true
    }
   },
   "outputs": [],
   "source": [
    "torch.save(pytorch_model.state_dict(), 'pytorch_model.pth')"
   ]
  },
  {
   "cell_type": "markdown",
   "metadata": {},
   "source": [
    "## Convert to Keras weights with `pytorch2keras`"
   ]
  },
  {
   "cell_type": "code",
   "execution_count": null,
   "metadata": {
    "ExecuteTime": {
     "end_time": "2019-06-29T00:21:44.710539Z",
     "start_time": "2019-06-29T00:21:44.702535Z"
    },
    "deletable": false,
    "editable": false,
    "run_control": {
     "frozen": true
    }
   },
   "outputs": [],
   "source": [
    "# create a dummy variable with correct shape\n",
    "input_np = np.random.uniform(0, 1, (1, 3, 224, 224))\n",
    "input_var = Variable(torch.FloatTensor(input_np))"
   ]
  },
  {
   "cell_type": "code",
   "execution_count": null,
   "metadata": {
    "ExecuteTime": {
     "end_time": "2019-06-29T00:22:03.555587Z",
     "start_time": "2019-06-29T00:21:48.203497Z"
    },
    "deletable": false,
    "editable": false,
    "run_control": {
     "frozen": true
    }
   },
   "outputs": [],
   "source": [
    "from pytorch2keras import pytorch_to_keras\n",
    "\n",
    "# we should specify shape of the input tensor\n",
    "k_model = pytorch_to_keras(pytorch_model, input_var, verbose=True)  "
   ]
  },
  {
   "cell_type": "markdown",
   "metadata": {},
   "source": [
    "### Save Keras weights"
   ]
  },
  {
   "cell_type": "code",
   "execution_count": null,
   "metadata": {
    "ExecuteTime": {
     "end_time": "2019-06-30T05:06:27.666732Z",
     "start_time": "2019-06-30T05:06:19.805218Z"
    },
    "deletable": false,
    "editable": false,
    "run_control": {
     "frozen": true
    }
   },
   "outputs": [],
   "source": [
    "k_model.save_weights('./keras_weights.h5')"
   ]
  },
  {
   "cell_type": "markdown",
   "metadata": {},
   "source": [
    "# Re-build the VGGFace model in TensorFlow with pre-trained weights"
   ]
  },
  {
   "cell_type": "markdown",
   "metadata": {},
   "source": [
    "Build model in TensorFlow(Keras) according to the PyTorch model architecture."
   ]
  },
  {
   "cell_type": "code",
   "execution_count": null,
   "metadata": {
    "ExecuteTime": {
     "end_time": "2019-06-30T08:33:00.749272Z",
     "start_time": "2019-06-30T08:33:00.746232Z"
    }
   },
   "outputs": [],
   "source": [
    "kernel_config = [64, 128, 256, 512, 512]\n",
    "layer_config = [2, 2, 3, 3, 3]"
   ]
  },
  {
   "cell_type": "code",
   "execution_count": null,
   "metadata": {
    "ExecuteTime": {
     "end_time": "2019-06-30T08:33:01.231970Z",
     "start_time": "2019-06-30T08:33:01.223069Z"
    }
   },
   "outputs": [],
   "source": [
    "def build_model(kernel_config, layer_config):\n",
    "    inputs = keras.Input(shape=(3, 224, 224))\n",
    "    x = inputs\n",
    "    \n",
    "    # add vgg blocks\n",
    "    for i in range(len(layer_config)):\n",
    "        for j in range(layer_config[i]):\n",
    "            kernel_size = kernel_config[i]\n",
    "            x = Conv2D(kernel_size, (3, 3), (1, 1), activation='relu', data_format='channels_first',\n",
    "                       padding='same', name=f'block{i+1}_conv{j+1}')(x)\n",
    "        x = MaxPooling2D((2, 2), strides=(2, 2), data_format='channels_first',\n",
    "                         name=f'block{i+1}_pool')(x)\n",
    "    \n",
    "    # add lambda layers\n",
    "    x = Flatten(data_format='channels_first', name='flatten')(x)\n",
    "    x = Dense(4096, activation='relu')(x)\n",
    "    x = Dropout(0.5)(x)\n",
    "    x = Dense(4096, activation='relu')(x)\n",
    "    x = Dropout(0.5)(x)\n",
    "    predictions = Dense(2622)(x)\n",
    "    \n",
    "    # define model\n",
    "    model = keras.Model(inputs=inputs, outputs=predictions)\n",
    "    \n",
    "#     model.compile(loss='binary_crossentropy', \n",
    "#                   optimizer=keras.optimizers.Adam(5e-3), \n",
    "#                   metrics=['accuracy'])\n",
    "    \n",
    "    return model"
   ]
  },
  {
   "cell_type": "code",
   "execution_count": null,
   "metadata": {
    "ExecuteTime": {
     "end_time": "2019-06-30T08:33:02.309164Z",
     "start_time": "2019-06-30T08:33:01.808770Z"
    },
    "scrolled": false
   },
   "outputs": [],
   "source": [
    "model = build_model(kernel_config, layer_config)\n",
    "# model.summary()"
   ]
  },
  {
   "cell_type": "markdown",
   "metadata": {},
   "source": [
    "## Load pre-trained weights"
   ]
  },
  {
   "cell_type": "code",
   "execution_count": null,
   "metadata": {
    "ExecuteTime": {
     "end_time": "2019-06-30T08:33:08.899899Z",
     "start_time": "2019-06-30T08:33:03.931532Z"
    }
   },
   "outputs": [],
   "source": [
    "model.load_weights('./keras_weights.h5')"
   ]
  },
  {
   "cell_type": "markdown",
   "metadata": {},
   "source": [
    "## Add Dense layer for gender classification"
   ]
  },
  {
   "cell_type": "markdown",
   "metadata": {},
   "source": [
    "Add Dense layers to build a gender classification model based on the pre-trained VGG-Face model."
   ]
  },
  {
   "cell_type": "code",
   "execution_count": null,
   "metadata": {
    "ExecuteTime": {
     "end_time": "2019-06-30T08:33:30.592019Z",
     "start_time": "2019-06-30T08:33:30.533261Z"
    }
   },
   "outputs": [],
   "source": [
    "# Store the fully connected layers\n",
    "fc = model.get_layer('dense_1')\n",
    "\n",
    "# change the output layer\n",
    "fc_out = Dense(1, activation='sigmoid', name='output')\n",
    "\n",
    "# Reconnect the layers\n",
    "x = fc.output\n",
    "predictions = fc_out(x)\n",
    "\n",
    "# Create a new model\n",
    "gender_model = keras.Model(inputs=model.input, outputs=predictions)"
   ]
  },
  {
   "cell_type": "code",
   "execution_count": null,
   "metadata": {
    "ExecuteTime": {
     "end_time": "2019-06-30T08:33:38.554343Z",
     "start_time": "2019-06-30T08:33:38.551719Z"
    }
   },
   "outputs": [],
   "source": [
    "# freeze the pre-trained weights\n",
    "for layer in gender_model.layers[:-1]:\n",
    "    layer.trainable = False"
   ]
  },
  {
   "cell_type": "markdown",
   "metadata": {},
   "source": [
    "# Train the gender classifier"
   ]
  },
  {
   "cell_type": "markdown",
   "metadata": {},
   "source": [
    "The data I used is downloaded here: https://s3.amazonaws.com/matroid-web/datasets/agegender_cleaned.tar.gz\n",
    "\n",
    "I use the `aligned/` folder as training set and the `valid/` folder as validation set."
   ]
  },
  {
   "cell_type": "markdown",
   "metadata": {},
   "source": [
    "## Data preparation"
   ]
  },
  {
   "cell_type": "code",
   "execution_count": 6,
   "metadata": {
    "ExecuteTime": {
     "end_time": "2019-06-30T08:33:51.619024Z",
     "start_time": "2019-06-30T08:33:51.616468Z"
    }
   },
   "outputs": [],
   "source": [
    "img_path = Path('./data/combined/')"
   ]
  },
  {
   "cell_type": "code",
   "execution_count": 7,
   "metadata": {
    "ExecuteTime": {
     "end_time": "2019-06-30T08:33:52.081856Z",
     "start_time": "2019-06-30T08:33:51.949301Z"
    }
   },
   "outputs": [],
   "source": [
    "train_paths_F = glob(str(img_path/'aligned/*F/*.jpg'), recursive=True)\n",
    "train_paths_M = glob(str(img_path/'aligned/*M/*.jpg'), recursive=True)\n",
    "val_paths_F = glob(str(img_path/'valid/*F/*.jpg'), recursive=True)\n",
    "val_paths_M = glob(str(img_path/'valid/*M/*.jpg'), recursive=True)"
   ]
  },
  {
   "cell_type": "code",
   "execution_count": 8,
   "metadata": {
    "ExecuteTime": {
     "end_time": "2019-06-30T08:34:08.876643Z",
     "start_time": "2019-06-30T08:34:08.871497Z"
    }
   },
   "outputs": [
    {
     "data": {
      "text/plain": [
       "(14312, 15125, 1752, 1929)"
      ]
     },
     "execution_count": 8,
     "metadata": {},
     "output_type": "execute_result"
    }
   ],
   "source": [
    "len(train_paths_F), len(train_paths_M), len(val_paths_F), len(val_paths_M)"
   ]
  },
  {
   "cell_type": "markdown",
   "metadata": {},
   "source": [
    "Label - Female: 0, Male: 1"
   ]
  },
  {
   "cell_type": "code",
   "execution_count": 22,
   "metadata": {
    "ExecuteTime": {
     "end_time": "2019-06-30T08:34:09.606163Z",
     "start_time": "2019-06-30T08:34:09.596997Z"
    }
   },
   "outputs": [],
   "source": [
    "# make train df\n",
    "train_df_F = pd.DataFrame(train_paths_F, columns=['fpath'])\n",
    "train_df_F['gender'] = 'f'\n",
    "\n",
    "train_df_M = pd.DataFrame(train_paths_M, columns=['fpath'])\n",
    "train_df_M['gender'] = 'm'\n",
    "\n",
    "train_df = pd.concat([train_df_F, train_df_M], axis=0)\n",
    "train_df = train_df.sample(frac=1).reset_index(drop=True)"
   ]
  },
  {
   "cell_type": "code",
   "execution_count": 23,
   "metadata": {
    "ExecuteTime": {
     "end_time": "2019-06-30T08:34:10.224579Z",
     "start_time": "2019-06-30T08:34:10.218878Z"
    }
   },
   "outputs": [],
   "source": [
    "# make val df\n",
    "val_df_F = pd.DataFrame(val_paths_F, columns=['fpath'])\n",
    "val_df_F['gender'] = 'f'\n",
    "\n",
    "val_df_M = pd.DataFrame(val_paths_M, columns=['fpath'])\n",
    "val_df_M['gender'] = 'm'\n",
    "\n",
    "val_df = pd.concat([val_df_F, val_df_M], axis=0)\n",
    "val_df = val_df.sample(frac=1).reset_index(drop=True)"
   ]
  },
  {
   "cell_type": "code",
   "execution_count": 24,
   "metadata": {
    "ExecuteTime": {
     "end_time": "2019-06-30T08:34:10.969362Z",
     "start_time": "2019-06-30T08:34:10.965352Z"
    }
   },
   "outputs": [
    {
     "data": {
      "text/plain": [
       "((29437, 2), (3681, 2))"
      ]
     },
     "execution_count": 24,
     "metadata": {},
     "output_type": "execute_result"
    }
   ],
   "source": [
    "train_df.shape, val_df.shape"
   ]
  },
  {
   "cell_type": "markdown",
   "metadata": {},
   "source": [
    "## Data Generator"
   ]
  },
  {
   "cell_type": "code",
   "execution_count": 66,
   "metadata": {},
   "outputs": [],
   "source": [
    "batch_size = 64"
   ]
  },
  {
   "cell_type": "code",
   "execution_count": 67,
   "metadata": {},
   "outputs": [
    {
     "name": "stdout",
     "output_type": "stream",
     "text": [
      "Found 29437 validated image filenames belonging to 2 classes.\n",
      "Found 3681 validated image filenames belonging to 2 classes.\n"
     ]
    }
   ],
   "source": [
    "train_datagen = ImageDataGenerator(\n",
    "        featurewise_center=True,\n",
    "        featurewise_std_normalization=True,\n",
    "        rotation_range=20,\n",
    "#         width_shift_range=0.2,\n",
    "#         height_shift_range=0.2,\n",
    "#         shear_range=0.2,\n",
    "#         zoom_range=0.3,\n",
    "        horizontal_flip=True,\n",
    "        data_format='channels_first')\n",
    "val_datagen = ImageDataGenerator(data_format='channels_first')\n",
    "\n",
    "train_generator = train_datagen.flow_from_dataframe(\n",
    "        train_df,\n",
    "        x_col='fpath',\n",
    "        y_col='gender',\n",
    "        target_size=(224, 224),\n",
    "        batch_size=batch_size,\n",
    "        class_mode='binary')\n",
    "val_generator = val_datagen.flow_from_dataframe(\n",
    "        val_df,\n",
    "        x_col='fpath',\n",
    "        y_col='gender',\n",
    "        target_size=(224, 224),\n",
    "        batch_size=batch_size,\n",
    "        class_mode='binary')"
   ]
  },
  {
   "cell_type": "code",
   "execution_count": 14,
   "metadata": {
    "ExecuteTime": {
     "end_time": "2019-06-30T08:34:16.482472Z",
     "start_time": "2019-06-30T08:34:16.282404Z"
    }
   },
   "outputs": [],
   "source": [
    "X, y = next(iter(train_generator))"
   ]
  },
  {
   "cell_type": "code",
   "execution_count": 15,
   "metadata": {
    "ExecuteTime": {
     "end_time": "2019-06-30T08:34:18.180973Z",
     "start_time": "2019-06-30T08:34:18.176793Z"
    }
   },
   "outputs": [
    {
     "data": {
      "text/plain": [
       "((64, 3, 224, 224), (64,))"
      ]
     },
     "execution_count": 15,
     "metadata": {},
     "output_type": "execute_result"
    }
   ],
   "source": [
    "X.shape, y.shape"
   ]
  },
  {
   "cell_type": "code",
   "execution_count": 17,
   "metadata": {
    "ExecuteTime": {
     "end_time": "2019-06-30T08:34:20.929035Z",
     "start_time": "2019-06-30T08:34:20.758150Z"
    },
    "scrolled": true
   },
   "outputs": [
    {
     "name": "stdout",
     "output_type": "stream",
     "text": [
      "1.0\n"
     ]
    },
    {
     "data": {
      "image/png": "[encoded data removed]",
      "text/plain": [
       "<Figure size 432x288 with 1 Axes>"
      ]
     },
     "metadata": {
      "needs_background": "light"
     },
     "output_type": "display_data"
    }
   ],
   "source": [
    "# check data\n",
    "import matplotlib.pyplot as plt\n",
    "\n",
    "plt.imshow(X[1].transpose(1, 2, 0).astype(int))\n",
    "print(y[1])"
   ]
  },
  {
   "cell_type": "markdown",
   "metadata": {},
   "source": [
    "# Train Model"
   ]
  },
  {
   "cell_type": "code",
   "execution_count": null,
   "metadata": {
    "ExecuteTime": {
     "end_time": "2019-06-30T08:40:22.475124Z",
     "start_time": "2019-06-30T08:40:22.366515Z"
    }
   },
   "outputs": [],
   "source": [
    "num_epochs = 10\n",
    "# learning_rate = 1e-2\n",
    "# decay_rate = learning_rate / num_epochs\n",
    "# momentum = 0.85\n",
    "# sgd = SGD(lr=learning_rate, momentum=momentum, decay=decay_rate, nesterov=False)\n",
    "\n",
    "gender_model.compile(loss='binary_crossentropy', \n",
    "                     optimizer='adam', \n",
    "                     metrics=['accuracy'])\n",
    "gender_model.summary()"
   ]
  },
  {
   "cell_type": "code",
   "execution_count": null,
   "metadata": {
    "ExecuteTime": {
     "end_time": "2019-06-30T08:24:28.159944Z",
     "start_time": "2019-06-30T08:09:49.445387Z"
    }
   },
   "outputs": [],
   "source": [
    "gender_model_history = gender_model.fit_generator(generator=train_generator,\n",
    "#                                                   steps_per_epoch=100,\n",
    "                                                  epochs=num_epochs,\n",
    "                                                  verbose=1,\n",
    "                                                  validation_data=val_generator,\n",
    "                                                  use_multiprocessing=True,\n",
    "                                                  workers=4,\n",
    "                                                  max_queue_size=16)"
   ]
  },
  {
   "cell_type": "code",
   "execution_count": null,
   "metadata": {},
   "outputs": [],
   "source": [
    "# gender_model.save('gender_cls_model.h5')"
   ]
  },
  {
   "cell_type": "markdown",
   "metadata": {},
   "source": [
    "# Test model"
   ]
  },
  {
   "cell_type": "code",
   "execution_count": 18,
   "metadata": {},
   "outputs": [
    {
     "name": "stdout",
     "output_type": "stream",
     "text": [
      "WARNING:tensorflow:From /home/ubuntu/anaconda3/envs/tf_gpu/lib/python3.6/site-packages/tensorflow/python/ops/resource_variable_ops.py:435: colocate_with (from tensorflow.python.framework.ops) is deprecated and will be removed in a future version.\n",
      "Instructions for updating:\n",
      "Colocations handled automatically by placer.\n",
      "WARNING:tensorflow:From /home/ubuntu/anaconda3/envs/tf_gpu/lib/python3.6/site-packages/tensorflow/python/keras/layers/core.py:143: calling dropout (from tensorflow.python.ops.nn_ops) with keep_prob is deprecated and will be removed in a future version.\n",
      "Instructions for updating:\n",
      "Please use `rate` instead of `keep_prob`. Rate should be set to `rate = 1 - keep_prob`.\n",
      "WARNING:tensorflow:From /home/ubuntu/anaconda3/envs/tf_gpu/lib/python3.6/site-packages/tensorflow/python/ops/math_ops.py:3066: to_int32 (from tensorflow.python.ops.math_ops) is deprecated and will be removed in a future version.\n",
      "Instructions for updating:\n",
      "Use tf.cast instead.\n",
      "_________________________________________________________________\n",
      "Layer (type)                 Output Shape              Param #   \n",
      "=================================================================\n",
      "input_1 (InputLayer)         (None, 3, 224, 224)       0         \n",
      "_________________________________________________________________\n",
      "block1_conv1 (Conv2D)        (None, 64, 224, 224)      1792      \n",
      "_________________________________________________________________\n",
      "block1_conv2 (Conv2D)        (None, 64, 224, 224)      36928     \n",
      "_________________________________________________________________\n",
      "block1_pool (MaxPooling2D)   (None, 64, 112, 112)      0         \n",
      "_________________________________________________________________\n",
      "block2_conv1 (Conv2D)        (None, 128, 112, 112)     73856     \n",
      "_________________________________________________________________\n",
      "block2_conv2 (Conv2D)        (None, 128, 112, 112)     147584    \n",
      "_________________________________________________________________\n",
      "block2_pool (MaxPooling2D)   (None, 128, 56, 56)       0         \n",
      "_________________________________________________________________\n",
      "block3_conv1 (Conv2D)        (None, 256, 56, 56)       295168    \n",
      "_________________________________________________________________\n",
      "block3_conv2 (Conv2D)        (None, 256, 56, 56)       590080    \n",
      "_________________________________________________________________\n",
      "block3_conv3 (Conv2D)        (None, 256, 56, 56)       590080    \n",
      "_________________________________________________________________\n",
      "block3_pool (MaxPooling2D)   (None, 256, 28, 28)       0         \n",
      "_________________________________________________________________\n",
      "block4_conv1 (Conv2D)        (None, 512, 28, 28)       1180160   \n",
      "_________________________________________________________________\n",
      "block4_conv2 (Conv2D)        (None, 512, 28, 28)       2359808   \n",
      "_________________________________________________________________\n",
      "block4_conv3 (Conv2D)        (None, 512, 28, 28)       2359808   \n",
      "_________________________________________________________________\n",
      "block4_pool (MaxPooling2D)   (None, 512, 14, 14)       0         \n",
      "_________________________________________________________________\n",
      "block5_conv1 (Conv2D)        (None, 512, 14, 14)       2359808   \n",
      "_________________________________________________________________\n",
      "block5_conv2 (Conv2D)        (None, 512, 14, 14)       2359808   \n",
      "_________________________________________________________________\n",
      "block5_conv3 (Conv2D)        (None, 512, 14, 14)       2359808   \n",
      "_________________________________________________________________\n",
      "block5_pool (MaxPooling2D)   (None, 512, 7, 7)         0         \n",
      "_________________________________________________________________\n",
      "flatten (Flatten)            (None, 25088)             0         \n",
      "_________________________________________________________________\n",
      "dense (Dense)                (None, 4096)              102764544 \n",
      "_________________________________________________________________\n",
      "dropout (Dropout)            (None, 4096)              0         \n",
      "_________________________________________________________________\n",
      "dense_1 (Dense)              (None, 4096)              16781312  \n",
      "_________________________________________________________________\n",
      "output (Dense)               (None, 1)                 4097      \n",
      "=================================================================\n",
      "Total params: 134,264,641\n",
      "Trainable params: 4,097\n",
      "Non-trainable params: 134,260,544\n",
      "_________________________________________________________________\n"
     ]
    }
   ],
   "source": [
    "# Recreate the exact same model, including weights and optimizer.\n",
    "gender_model = keras.models.load_model('gender_cls_model.h5')\n",
    "gender_model.summary()"
   ]
  },
  {
   "cell_type": "code",
   "execution_count": 19,
   "metadata": {},
   "outputs": [
    {
     "name": "stdout",
     "output_type": "stream",
     "text": [
      "58/58 [==============================] - 41s 701ms/step - loss: 0.2765 - acc: 0.8788\n"
     ]
    },
    {
     "data": {
      "text/plain": [
       "[0.27646446407868946, 0.8788373]"
      ]
     },
     "execution_count": 19,
     "metadata": {},
     "output_type": "execute_result"
    }
   ],
   "source": [
    "gender_model.evaluate_generator(val_generator,\n",
    "                                use_multiprocessing=True,\n",
    "                                max_queue_size=10,\n",
    "                                workers=4,\n",
    "                                verbose=1)"
   ]
  },
  {
   "cell_type": "code",
   "execution_count": 77,
   "metadata": {},
   "outputs": [
    {
     "name": "stdout",
     "output_type": "stream",
     "text": [
      "Found 3681 validated image filenames belonging to 2 classes.\n"
     ]
    }
   ],
   "source": [
    "val_generator_all = val_datagen.flow_from_dataframe(\n",
    "                    val_df,\n",
    "                    x_col='fpath',\n",
    "                    y_col='gender',\n",
    "                    target_size=(224, 224),\n",
    "                    batch_size=val_df.shape[0],\n",
    "                    class_mode='binary')"
   ]
  },
  {
   "cell_type": "code",
   "execution_count": 80,
   "metadata": {},
   "outputs": [
    {
     "name": "stdout",
     "output_type": "stream",
     "text": [
      "3681/3681 [==============================] - 32s 9ms/sample\n"
     ]
    }
   ],
   "source": [
    "X, y = next(iter(val_generator_all))\n",
    "pred = gender_model.predict(X, verbose=1)\n",
    "pred = pred.squeeze()"
   ]
  },
  {
   "cell_type": "code",
   "execution_count": 81,
   "metadata": {},
   "outputs": [
    {
     "data": {
      "text/plain": [
       "((3681, 3, 224, 224), (3681,), (3681,))"
      ]
     },
     "execution_count": 81,
     "metadata": {},
     "output_type": "execute_result"
    }
   ],
   "source": [
    "X.shape, y.shape, pred.shape"
   ]
  },
  {
   "cell_type": "code",
   "execution_count": 84,
   "metadata": {},
   "outputs": [],
   "source": [
    "pred = [1 if p > 0.5 else 0 for p in pred]"
   ]
  },
  {
   "cell_type": "code",
   "execution_count": 87,
   "metadata": {},
   "outputs": [
    {
     "name": "stdout",
     "output_type": "stream",
     "text": [
      "              precision    recall  f1-score   support\n",
      "\n",
      "      Female       0.91      0.83      0.87      1752\n",
      "        Male       0.86      0.92      0.89      1929\n",
      "\n",
      "    accuracy                           0.88      3681\n",
      "   macro avg       0.88      0.88      0.88      3681\n",
      "weighted avg       0.88      0.88      0.88      3681\n",
      "\n"
     ]
    }
   ],
   "source": [
    "from sklearn.metrics import classification_report\n",
    "\n",
    "print(classification_report(y, pred, target_names=['Female', 'Male']))"
   ]
  },
  {
   "cell_type": "code",
   "execution_count": null,
   "metadata": {},
   "outputs": [],
   "source": []
  }
 ],
 "metadata": {
  "kernelspec": {
   "display_name": "Environment (conda_tf_gpu)",
   "language": "python",
   "name": "conda_tf_gpu"
  },
  "language_info": {
   "codemirror_mode": {
    "name": "ipython",
    "version": 3
   },
   "file_extension": ".py",
   "mimetype": "text/x-python",
   "name": "python",
   "nbconvert_exporter": "python",
   "pygments_lexer": "ipython3",
   "version": "3.6.8"
  },
  "toc": {
   "base_numbering": 1,
   "nav_menu": {},
   "number_sections": true,
   "sideBar": true,
   "skip_h1_title": false,
   "title_cell": "Table of Contents",
   "title_sidebar": "Contents",
   "toc_cell": false,
   "toc_position": {},
   "toc_section_display": true,
   "toc_window_display": false
  },
  "varInspector": {
   "cols": {
    "lenName": 16,
    "lenType": 16,
    "lenVar": 40
   },
   "kernels_config": {
    "python": {
     "delete_cmd_postfix": "",
     "delete_cmd_prefix": "del ",
     "library": "var_list.py",
     "varRefreshCmd": "print(var_dic_list())"
    },
    "r": {
     "delete_cmd_postfix": ") ",
     "delete_cmd_prefix": "rm(",
     "library": "var_list.r",
     "varRefreshCmd": "cat(var_dic_list()) "
    }
   },
   "types_to_exclude": [
    "module",
    "function",
    "builtin_function_or_method",
    "instance",
    "_Feature"
   ],
   "window_display": false
  }
 },
 "nbformat": 4,
 "nbformat_minor": 2
}
